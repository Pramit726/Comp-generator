{
 "cells": [
  {
   "cell_type": "markdown",
   "metadata": {},
   "source": [
    "### Importing necessary libraries"
   ]
  },
  {
   "cell_type": "code",
   "execution_count": 83,
   "metadata": {},
   "outputs": [],
   "source": [
    "from dotenv import load_dotenv\n",
    "import os\n",
    "from langchain_core.prompts.prompt import PromptTemplate\n",
    "from langchain_google_genai import ChatGoogleGenerativeAI\n",
    "from langchain_core.output_parsers import StrOutputParser\n",
    "import json\n",
    "from pathlib import Path\n",
    "from operator import itemgetter"
   ]
  },
  {
   "cell_type": "markdown",
   "metadata": {},
   "source": [
    "### Loading Google API Key from environment variables"
   ]
  },
  {
   "cell_type": "code",
   "execution_count": 34,
   "metadata": {},
   "outputs": [],
   "source": [
    "# Load environment variables from .env file\n",
    "load_dotenv()\n",
    "\n",
    "# Set the GOOGLE_API_KEY environment variable to the value retrieved from .env file\n",
    "os.environ[\"GOOGLE_API_KEY\"] = os.getenv(\"GOOGLE_API_KEY\")"
   ]
  },
  {
   "cell_type": "markdown",
   "metadata": {},
   "source": [
    "### Initializing Large Language Model"
   ]
  },
  {
   "cell_type": "code",
   "execution_count": 22,
   "metadata": {},
   "outputs": [],
   "source": [
    "llm = ChatGoogleGenerativeAI(model=\"gemini-pro\", temperature=0.7)"
   ]
  },
  {
   "cell_type": "markdown",
   "metadata": {},
   "source": [
    "### Loading JSON response file"
   ]
  },
  {
   "cell_type": "code",
   "execution_count": 42,
   "metadata": {},
   "outputs": [],
   "source": [
    "path_absolute = Path(\"E:\\Learnings\\Comprehension-generator\")\n",
    "path_relative = Path(\"response.json\")\n",
    "full_path = path_absolute / path_relative\n",
    "\n",
    "with open(full_path,'r') as f:\n",
    "   RESPONSE_JSON = json.load(f)"
   ]
  },
  {
   "cell_type": "code",
   "execution_count": 43,
   "metadata": {},
   "outputs": [
    {
     "data": {
      "text/plain": [
       "{'comprehension_passage': 'This is a sample comprehension passage. It contains several sentences providing information or a story.',\n",
       " 'mcqs': [{'question': 'What is the capital of France?',\n",
       "   'options': ['London', 'Paris', 'Berlin', 'Rome'],\n",
       "   'answer_key': ''},\n",
       "  {'question': \"Who wrote 'To Kill a Mockingbird'?\",\n",
       "   'options': ['Harper Lee',\n",
       "    'J.K. Rowling',\n",
       "    'Stephen King',\n",
       "    'Charles Dickens'],\n",
       "   'answer_key': 0}],\n",
       " 'short_answer_questions': [{'question': 'What is the main theme of the passage?',\n",
       "   'demo_answer': 'The main theme of the passage is about...'},\n",
       "  {'question': 'Explain the significance of the character X in the passage.',\n",
       "   'demo_answer': 'The character X is significant because...'}],\n",
       " 'long_answer_questions': [{'question': 'Discuss the impact of climate change on global agriculture.',\n",
       "   'demo_answer': 'Climate change has a profound impact on global agriculture...'},\n",
       "  {'question': 'Analyze the character development in the provided passage.',\n",
       "   'demo_answer': 'The character development in the passage can be analyzed by...'}]}"
      ]
     },
     "execution_count": 43,
     "metadata": {},
     "output_type": "execute_result"
    }
   ],
   "source": [
    "RESPONSE_JSON"
   ]
  },
  {
   "cell_type": "code",
   "execution_count": 69,
   "metadata": {},
   "outputs": [],
   "source": [
    "generate_instruction= \"\"\"\n",
    "You are an expert comprehension generator\\ Given a specific {topic} your task is to\\  \n",
    "generate a comprehension passage within {words} words \\\n",
    "keeping in mind the difficulty level {difficulty}\n",
    "Next you have to have to generate MCQS, short answer type and long answer type questions.\n",
    "The number of questions for MCQ will be {mcq_no},\\\n",
    "for short answer type{sa_no} and\\\n",
    "for long answer type{la_no}.\n",
    "Provide the demo answers for all the generated questions of MCQ, short answer and long answer questions at the end.\n",
    "The long type question demo answers should be of minimimum 100 words\\\n",
    "Provide the output in the given format\\\n",
    "{RESPONSE_JSON}\n",
    "The #RESPONSE_JSON keys and values should be enclosed within # double quotes\"\"\n",
    "\"\"\""
   ]
  },
  {
   "cell_type": "code",
   "execution_count": 70,
   "metadata": {},
   "outputs": [],
   "source": [
    "generation_prompt= PromptTemplate(\n",
    "    input_variables=['topic','words','difficulty','mcq_no','sa_no','la_no','RESPONSE_JSON'],\n",
    "    template= generate_instruction\n",
    ")"
   ]
  },
  {
   "cell_type": "code",
   "execution_count": 71,
   "metadata": {},
   "outputs": [
    {
     "data": {
      "text/plain": [
       "PromptTemplate(input_variables=['RESPONSE_JSON', 'difficulty', 'la_no', 'mcq_no', 'sa_no', 'topic', 'words'], template='\\nYou are an expert comprehension generator\\\\ Given a specific {topic} your task is to\\\\  \\ngenerate a comprehension passage within {words} words keeping in mind the difficulty level {difficulty}\\nNext you have to have to generate MCQS, short answer type and long answer type questions.\\nThe number of questions for MCQ will be {mcq_no},for short answer type{sa_no} andfor long answer type{la_no}.\\nProvide the demo answers for all the generated questions of MCQ, short answer and long answer questions at the end.\\nThe long type question demo answers should be of minimimum 100 wordsProvide the output in the given format{RESPONSE_JSON}\\nThe #RESPONSE_JSON keys and values should be enclosed within # double quotes\"\"\\n')"
      ]
     },
     "execution_count": 71,
     "metadata": {},
     "output_type": "execute_result"
    }
   ],
   "source": [
    "generation_prompt"
   ]
  },
  {
   "cell_type": "code",
   "execution_count": 72,
   "metadata": {},
   "outputs": [],
   "source": [
    "output_parser = StrOutputParser()"
   ]
  },
  {
   "cell_type": "code",
   "execution_count": 73,
   "metadata": {},
   "outputs": [],
   "source": [
    "chain_generation=generation_prompt| llm| output_parser "
   ]
  },
  {
   "cell_type": "code",
   "execution_count": 74,
   "metadata": {},
   "outputs": [
    {
     "data": {
      "text/plain": [
       "PromptTemplate(input_variables=['RESPONSE_JSON', 'difficulty', 'la_no', 'mcq_no', 'sa_no', 'topic', 'words'], template='\\nYou are an expert comprehension generator\\\\ Given a specific {topic} your task is to\\\\  \\ngenerate a comprehension passage within {words} words keeping in mind the difficulty level {difficulty}\\nNext you have to have to generate MCQS, short answer type and long answer type questions.\\nThe number of questions for MCQ will be {mcq_no},for short answer type{sa_no} andfor long answer type{la_no}.\\nProvide the demo answers for all the generated questions of MCQ, short answer and long answer questions at the end.\\nThe long type question demo answers should be of minimimum 100 wordsProvide the output in the given format{RESPONSE_JSON}\\nThe #RESPONSE_JSON keys and values should be enclosed within # double quotes\"\"\\n')\n",
       "| ChatGoogleGenerativeAI(model='gemini-pro', client=genai.GenerativeModel(\n",
       "      model_name='models/gemini-pro',\n",
       "      generation_config={},\n",
       "      safety_settings={},\n",
       "      tools=None,\n",
       "      system_instruction=None,\n",
       "  ))\n",
       "| StrOutputParser()"
      ]
     },
     "execution_count": 74,
     "metadata": {},
     "output_type": "execute_result"
    }
   ],
   "source": [
    "chain_generation"
   ]
  },
  {
   "cell_type": "code",
   "execution_count": 140,
   "metadata": {},
   "outputs": [],
   "source": [
    "review_instruction= \"\"\"\n",
    "As an expert in English grammar and writing, your task is to assess a comprehension passage{response}\\\n",
    "The passage provided is {words} words long and pertains to the topic of {topic}\\\n",
    "Your evaluation should include an assessment of the passage's difficulty level, as specified {difficulty}\\\n",
    "Furthermore, you are required to evaluate multiple-choice questions, short-answer questions, and long-answer questions embedded within the passage\\\n",
    "If any of the questions do not align with the cognitive and analytical abilities expected of the students, you must suggest changes to ensure they are suitable\\\n",
    "Additionally, you are to evaluate the provided answers to the questions, ensuring they are accurate and appropriate.\n",
    "Please ensure that the output consists solely of the updated comprehension passage and the questions along with their answers\\\n",
    "as per the given format {RESPONSE_JSON}\\\n",
    "In the output format keys and values of  JSON  within # double quotes\n",
    "\"\"\""
   ]
  },
  {
   "cell_type": "code",
   "execution_count": 141,
   "metadata": {},
   "outputs": [],
   "source": [
    "review_template= PromptTemplate(\n",
    "    input_variables=['topic','words','difficulty','response','RESPONSE_JSON'],\n",
    "    template= review_instruction\n",
    ")"
   ]
  },
  {
   "cell_type": "code",
   "execution_count": 142,
   "metadata": {},
   "outputs": [
    {
     "data": {
      "text/plain": [
       "PromptTemplate(input_variables=['RESPONSE_JSON', 'difficulty', 'response', 'topic', 'words'], template=\"\\nAs an expert in English grammar and writing, your task is to assess a comprehension passage{response}The passage provided is {words} words long and pertains to the topic of {topic}Your evaluation should include an assessment of the passage's difficulty level, as specified {difficulty}Furthermore, you are required to evaluate multiple-choice questions, short-answer questions, and long-answer questions embedded within the passageIf any of the questions do not align with the cognitive and analytical abilities expected of the students, you must suggest changes to ensure they are suitableAdditionally, you are to evaluate the provided answers to the questions, ensuring they are accurate and appropriate.\\nPlease ensure that the output consists solely of the updated comprehension passage and the questions along with their answersas per the given format {RESPONSE_JSON}In the output format keys and values of  JSON  within # double quotes\\n\")"
      ]
     },
     "execution_count": 142,
     "metadata": {},
     "output_type": "execute_result"
    }
   ],
   "source": [
    "review_template"
   ]
  },
  {
   "cell_type": "code",
   "execution_count": 143,
   "metadata": {},
   "outputs": [],
   "source": [
    "review_chain= (\n",
    "    {\"response\": chain_generation, \"difficulty\": itemgetter(\"difficulty\"), \"topic\": itemgetter(\"topic\"), \"words\": itemgetter(\"words\"), \"RESPONSE_JSON\": itemgetter(\"RESPONSE_JSON\")}\n",
    "    | review_template\n",
    "    | llm\n",
    "    | StrOutputParser() \n",
    ")"
   ]
  },
  {
   "cell_type": "code",
   "execution_count": 144,
   "metadata": {},
   "outputs": [
    {
     "data": {
      "text/plain": [
       "{\n",
       "  response: PromptTemplate(input_variables=['RESPONSE_JSON', 'difficulty', 'la_no', 'mcq_no', 'sa_no', 'topic', 'words'], template='\\nYou are an expert comprehension generator\\\\ Given a specific {topic} your task is to\\\\  \\ngenerate a comprehension passage within {words} words keeping in mind the difficulty level {difficulty}\\nNext you have to have to generate MCQS, short answer type and long answer type questions.\\nThe number of questions for MCQ will be {mcq_no},for short answer type{sa_no} andfor long answer type{la_no}.\\nProvide the demo answers for all the generated questions of MCQ, short answer and long answer questions at the end.\\nThe long type question demo answers should be of minimimum 100 wordsProvide the output in the given format{RESPONSE_JSON}\\nThe #RESPONSE_JSON keys and values should be enclosed within # double quotes\"\"\\n')\n",
       "            | ChatGoogleGenerativeAI(model='gemini-pro', client=genai.GenerativeModel(\n",
       "                  model_name='models/gemini-pro',\n",
       "                  generation_config={},\n",
       "                  safety_settings={},\n",
       "                  tools=None,\n",
       "                  system_instruction=None,\n",
       "              ))\n",
       "            | StrOutputParser(),\n",
       "  difficulty: RunnableLambda(itemgetter('difficulty')),\n",
       "  topic: RunnableLambda(itemgetter('topic')),\n",
       "  words: RunnableLambda(itemgetter('words')),\n",
       "  RESPONSE_JSON: RunnableLambda(itemgetter('RESPONSE_JSON'))\n",
       "}\n",
       "| PromptTemplate(input_variables=['RESPONSE_JSON', 'difficulty', 'response', 'topic', 'words'], template=\"\\nAs an expert in English grammar and writing, your task is to assess a comprehension passage{response}The passage provided is {words} words long and pertains to the topic of {topic}Your evaluation should include an assessment of the passage's difficulty level, as specified {difficulty}Furthermore, you are required to evaluate multiple-choice questions, short-answer questions, and long-answer questions embedded within the passageIf any of the questions do not align with the cognitive and analytical abilities expected of the students, you must suggest changes to ensure they are suitableAdditionally, you are to evaluate the provided answers to the questions, ensuring they are accurate and appropriate.\\nPlease ensure that the output consists solely of the updated comprehension passage and the questions along with their answersas per the given format {RESPONSE_JSON}In the output format keys and values of  JSON  within # double quotes\\n\")\n",
       "| ChatGoogleGenerativeAI(model='gemini-pro', client=genai.GenerativeModel(\n",
       "      model_name='models/gemini-pro',\n",
       "      generation_config={},\n",
       "      safety_settings={},\n",
       "      tools=None,\n",
       "      system_instruction=None,\n",
       "  ))\n",
       "| StrOutputParser()"
      ]
     },
     "execution_count": 144,
     "metadata": {},
     "output_type": "execute_result"
    }
   ],
   "source": [
    "review_chain"
   ]
  },
  {
   "cell_type": "code",
   "execution_count": 145,
   "metadata": {},
   "outputs": [],
   "source": [
    "response= review_chain.invoke({'RESPONSE_JSON':RESPONSE_JSON, 'difficulty':'easy', 'la_no':2, 'mcq_no':3, 'sa_no':1, 'topic':'India', 'words':300 })"
   ]
  },
  {
   "cell_type": "code",
   "execution_count": 148,
   "metadata": {},
   "outputs": [
    {
     "name": "stdout",
     "output_type": "stream",
     "text": [
      "{\n",
      " \"comprehension_passage\": \"India is a vast and diverse country located in South Asia. It is the seventh-largest country in the world by landmass and the second-most populous country with over 1.3 billion people. India is a federal republic consisting of 28 states and 8 union territories. The capital of India is New Delhi.\\n\\nIndia has a rich history and culture. The Indus Valley Civilization, one of the world's oldest civilizations, flourished in the Indian subcontinent from 2600 to 1900 BCE. India was ruled by various empires and dynasties over the centuries, including the Mauryan Empire, the Gupta Empire, and the Mughal Empire. India gained independence from British rule in 1947.\",\n",
      " \"mcqs\": [\n",
      "  {\n",
      "   \"question\": \"What is the capital of India?\",\n",
      "   \"options\": [\n",
      "    \"Mumbai\",\n",
      "    \"New Delhi\",\n",
      "    \"Kolkata\",\n",
      "    \"Chennai\"\n",
      "   ],\n",
      "   \"answer_key\": \"New Delhi\"\n",
      "  },\n",
      "  {\n",
      "   \"question\": \"Which of the following is not a state in India?\",\n",
      "   \"options\": [\n",
      "    \"Uttar Pradesh\",\n",
      "    \"Karnataka\",\n",
      "    \"Nepal\",\n",
      "    \"Rajasthan\"\n",
      "   ],\n",
      "   \"answer_key\": \"Nepal\"\n",
      "  },\n",
      "  {\n",
      "   \"question\": \"What is the name of the oldest civilization in the Indian subcontinent?\",\n",
      "   \"options\": [\n",
      "    \"Harappan Civilization\",\n",
      "    \"Indus Valley Civilization\",\n",
      "    \"Mesopotamian Civilization\",\n",
      "    \"Egyptian Civilization\"\n",
      "   ],\n",
      "   \"answer_key\": \"Indus Valley Civilization\"\n",
      "  }\n",
      " ],\n",
      " \"short_answer_questions\": [\n",
      "  {\n",
      "   \"question\": \"Name the largest state in India by area.\",\n",
      "   \"demo_answer\": \"Rajasthan is the largest state in India by area.\"\n",
      "  },\n",
      "  {\n",
      "   \"question\": \"When did India gain independence from British rule?\",\n",
      "   \"demo_answer\": \"India gained independence from British rule in 1947.\"\n",
      "  }\n",
      " ],\n",
      " \"long_answer_questions\": [\n",
      "  {\n",
      "   \"question\": \"Describe the geography of India.\",\n",
      "   \"demo_answer\": \"India is a vast country with a diverse geography. It is bordered by the Himalayas in the north, the Indian Ocean in the south, and the Arabian Sea and the Bay of Bengal in the west and east, respectively. The country has a wide range of landforms, including mountains, plateaus, plains, and deserts.\"\n",
      "  },\n",
      "  {\n",
      "   \"question\": \"Discuss the cultural diversity of India.\",\n",
      "   \"demo_answer\": \"India is a culturally diverse country with a rich history and heritage. The country is home to a wide variety of languages, religions, and ethnic groups. India's cultural diversity is reflected in its art, music, dance, and cuisine.\"\n",
      "  }\n",
      " ]\n",
      "}\n"
     ]
    }
   ],
   "source": [
    "print(response)"
   ]
  },
  {
   "cell_type": "code",
   "execution_count": 149,
   "metadata": {},
   "outputs": [],
   "source": [
    "response= json.loads(response)"
   ]
  },
  {
   "cell_type": "code",
   "execution_count": 150,
   "metadata": {},
   "outputs": [
    {
     "data": {
      "text/plain": [
       "{'comprehension_passage': \"India is a vast and diverse country located in South Asia. It is the seventh-largest country in the world by landmass and the second-most populous country with over 1.3 billion people. India is a federal republic consisting of 28 states and 8 union territories. The capital of India is New Delhi.\\n\\nIndia has a rich history and culture. The Indus Valley Civilization, one of the world's oldest civilizations, flourished in the Indian subcontinent from 2600 to 1900 BCE. India was ruled by various empires and dynasties over the centuries, including the Mauryan Empire, the Gupta Empire, and the Mughal Empire. India gained independence from British rule in 1947.\",\n",
       " 'mcqs': [{'question': 'What is the capital of India?',\n",
       "   'options': ['Mumbai', 'New Delhi', 'Kolkata', 'Chennai'],\n",
       "   'answer_key': 'New Delhi'},\n",
       "  {'question': 'Which of the following is not a state in India?',\n",
       "   'options': ['Uttar Pradesh', 'Karnataka', 'Nepal', 'Rajasthan'],\n",
       "   'answer_key': 'Nepal'},\n",
       "  {'question': 'What is the name of the oldest civilization in the Indian subcontinent?',\n",
       "   'options': ['Harappan Civilization',\n",
       "    'Indus Valley Civilization',\n",
       "    'Mesopotamian Civilization',\n",
       "    'Egyptian Civilization'],\n",
       "   'answer_key': 'Indus Valley Civilization'}],\n",
       " 'short_answer_questions': [{'question': 'Name the largest state in India by area.',\n",
       "   'demo_answer': 'Rajasthan is the largest state in India by area.'},\n",
       "  {'question': 'When did India gain independence from British rule?',\n",
       "   'demo_answer': 'India gained independence from British rule in 1947.'}],\n",
       " 'long_answer_questions': [{'question': 'Describe the geography of India.',\n",
       "   'demo_answer': 'India is a vast country with a diverse geography. It is bordered by the Himalayas in the north, the Indian Ocean in the south, and the Arabian Sea and the Bay of Bengal in the west and east, respectively. The country has a wide range of landforms, including mountains, plateaus, plains, and deserts.'},\n",
       "  {'question': 'Discuss the cultural diversity of India.',\n",
       "   'demo_answer': \"India is a culturally diverse country with a rich history and heritage. The country is home to a wide variety of languages, religions, and ethnic groups. India's cultural diversity is reflected in its art, music, dance, and cuisine.\"}]}"
      ]
     },
     "execution_count": 150,
     "metadata": {},
     "output_type": "execute_result"
    }
   ],
   "source": [
    "response"
   ]
  }
 ],
 "metadata": {
  "kernelspec": {
   "display_name": "Python 3",
   "language": "python",
   "name": "python3"
  },
  "language_info": {
   "codemirror_mode": {
    "name": "ipython",
    "version": 3
   },
   "file_extension": ".py",
   "mimetype": "text/x-python",
   "name": "python",
   "nbconvert_exporter": "python",
   "pygments_lexer": "ipython3",
   "version": "3.10.14"
  }
 },
 "nbformat": 4,
 "nbformat_minor": 2
}
